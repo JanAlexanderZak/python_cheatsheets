{
 "cells": [
  {
   "cell_type": "code",
   "execution_count": 1,
   "metadata": {},
   "outputs": [],
   "source": [
    "class Object(object):\n",
    "    def __init__(self):\n",
    "        self.a = 3\n",
    "\n",
    "a = Object()\n",
    "a.somefield = 2\n",
    "setattr(a, 'string', 20)"
   ]
  },
  {
   "cell_type": "code",
   "execution_count": null,
   "metadata": {},
   "outputs": [],
   "source": []
  },
  {
   "cell_type": "code",
   "execution_count": null,
   "metadata": {},
   "outputs": [],
   "source": []
  },
  {
   "cell_type": "code",
   "execution_count": null,
   "metadata": {},
   "outputs": [],
   "source": []
  },
  {
   "cell_type": "code",
   "execution_count": 2,
   "metadata": {},
   "outputs": [
    {
     "name": "stdout",
     "output_type": "stream",
     "text": [
      "set in descriptor object\n",
      "returned from descriptor object\n",
      "10\n",
      "-100\n"
     ]
    }
   ],
   "source": [
    "class Bar:\n",
    "    def __init__(self):\n",
    "        self.value = ''\n",
    "        self._x = None\n",
    "        \n",
    "    def __get__(self, instance, owner):\n",
    "        print(\"returned from descriptor object\")\n",
    "        return self.value\n",
    "    \n",
    "    def __set__(self, instance, value):\n",
    "        print(\"set in descriptor object\")\n",
    "        self.value = value\n",
    "        \n",
    "    def __delete__(self, instance):\n",
    "        print(\"deleted in descriptor object\")\n",
    "        del self.value\n",
    "        \n",
    "    @property\n",
    "    def x(self):\n",
    "        \"\"\"I'm the 'x' property.\"\"\"\n",
    "        print(\"Property\")\n",
    "        return self._x\n",
    "\n",
    "    @x.setter\n",
    "    def x(self, value):\n",
    "        print(\"Setting\")\n",
    "        self._x = 0\n",
    "\n",
    "\n",
    "\n",
    "class Foo:\n",
    "    bar = Bar()\n",
    "\n",
    "f = Foo()\n",
    "f.bar = 10\n",
    "print(f.bar)\n",
    "f._x = -100\n",
    "print(f._x)"
   ]
  },
  {
   "cell_type": "code",
   "execution_count": 3,
   "metadata": {},
   "outputs": [
    {
     "data": {
      "text/plain": [
       "'BAMF'"
      ]
     },
     "execution_count": 3,
     "metadata": {},
     "output_type": "execute_result"
    }
   ],
   "source": [
    "class Frob:\n",
    "    def __init__(self, bamf):\n",
    "        self.bamf = bamf\n",
    "    def __getattr__(self, name):\n",
    "        return 'Frob does not have `{}` attribute.'.format(str(name))\n",
    "    def __setattr__(self, name, value):\n",
    "        self.__dict__[name] = value.upper()\n",
    "\n",
    "f = Frob(\"bamf\")\n",
    "f.bar\n",
    "f.bamf"
   ]
  },
  {
   "cell_type": "code",
   "execution_count": 4,
   "metadata": {},
   "outputs": [
    {
     "data": {
      "text/plain": [
       "'Frob does not have `bar` attribute.'"
      ]
     },
     "execution_count": 4,
     "metadata": {},
     "output_type": "execute_result"
    }
   ],
   "source": [
    "f.bar"
   ]
  },
  {
   "cell_type": "code",
   "execution_count": 5,
   "metadata": {},
   "outputs": [
    {
     "name": "stdout",
     "output_type": "stream",
     "text": [
      "setter of x called\n",
      "getter of x called\n",
      "foo\n",
      "getter of x called\n",
      "deleter of x called\n",
      "{'y': 1}\n"
     ]
    }
   ],
   "source": [
    "class C:\n",
    "    def __init__(self):\n",
    "        self._x = None\n",
    "        self.y = 0\n",
    "\n",
    "    @property\n",
    "    def x(self):\n",
    "        \"\"\"I'm the 'x' property.\"\"\"\n",
    "        print(\"getter of x called\")\n",
    "        return self._x\n",
    "\n",
    "    @x.setter\n",
    "    def x(self, value):\n",
    "        print(\"setter of x called\")\n",
    "        self._x = value\n",
    "\n",
    "    @x.deleter\n",
    "    def x(self):\n",
    "        print(\"deleter of x called\")\n",
    "        del self._x\n",
    "\n",
    "\n",
    "c = C()\n",
    "c.x = 'foo'  # setter called\n",
    "print(c.x)\n",
    "foo = c.x    # getter called\n",
    "del c.x      # deleter called\n",
    "c.y = 1\n",
    "print(c.__dict__)"
   ]
  },
  {
   "cell_type": "code",
   "execution_count": 6,
   "metadata": {},
   "outputs": [],
   "source": [
    "setattr(c, 'name', c.y)"
   ]
  },
  {
   "cell_type": "code",
   "execution_count": 7,
   "metadata": {},
   "outputs": [
    {
     "data": {
      "text/plain": [
       "{'y': 1, 'name': 1}"
      ]
     },
     "execution_count": 7,
     "metadata": {},
     "output_type": "execute_result"
    }
   ],
   "source": [
    "c.__dict__"
   ]
  },
  {
   "cell_type": "code",
   "execution_count": 8,
   "metadata": {},
   "outputs": [],
   "source": [
    "values = [0, 1]\n",
    "attributes = [\"one\", \"two\"]\n",
    "for count, name in enumerate(attributes):\n",
    "    setattr(c, \"_\" + name, (values[count] + 1))"
   ]
  },
  {
   "cell_type": "code",
   "execution_count": 9,
   "metadata": {},
   "outputs": [
    {
     "data": {
      "text/plain": [
       "{'y': 1, 'name': 1, '_one': 1, '_two': 2}"
      ]
     },
     "execution_count": 9,
     "metadata": {},
     "output_type": "execute_result"
    }
   ],
   "source": [
    "c.__dict__"
   ]
  },
  {
   "cell_type": "code",
   "execution_count": 10,
   "metadata": {},
   "outputs": [
    {
     "name": "stdout",
     "output_type": "stream",
     "text": [
      "x\n",
      "x\n"
     ]
    },
    {
     "data": {
      "text/plain": [
       "{'_x': None, 'y': 0, '_one': 1, '_two': 2}"
      ]
     },
     "execution_count": 10,
     "metadata": {},
     "output_type": "execute_result"
    }
   ],
   "source": [
    "class C:\n",
    "    def __init__(self, attributes, values):\n",
    "        self._x = None\n",
    "        self.y = 0\n",
    "        for count, name in enumerate(attributes):\n",
    "            print(\"x\")\n",
    "            setattr(self, \"_\" + name, (values[count] + 1))\n",
    "\n",
    "    @property\n",
    "    def x(self):\n",
    "        \"\"\"I'm the 'x' property.\"\"\"\n",
    "        print(\"getter of x called\")\n",
    "        return self._x\n",
    "\n",
    "    @x.setter\n",
    "    def x(self, value):\n",
    "        print(\"setter of x called\")\n",
    "        self._x = value\n",
    "\n",
    "    @x.deleter\n",
    "    def x(self):\n",
    "        print(\"deleter of x called\")\n",
    "        del self._x\n",
    "\n",
    "\n",
    "c = C(attributes, values)\n",
    "c.__dict__"
   ]
  },
  {
   "cell_type": "code",
   "execution_count": 11,
   "metadata": {},
   "outputs": [
    {
     "data": {
      "text/plain": [
       "['__class__',\n",
       " '__delattr__',\n",
       " '__dict__',\n",
       " '__dir__',\n",
       " '__doc__',\n",
       " '__eq__',\n",
       " '__format__',\n",
       " '__ge__',\n",
       " '__getattribute__',\n",
       " '__gt__',\n",
       " '__hash__',\n",
       " '__init__',\n",
       " '__init_subclass__',\n",
       " '__le__',\n",
       " '__lt__',\n",
       " '__module__',\n",
       " '__ne__',\n",
       " '__new__',\n",
       " '__reduce__',\n",
       " '__reduce_ex__',\n",
       " '__repr__',\n",
       " '__setattr__',\n",
       " '__sizeof__',\n",
       " '__str__',\n",
       " '__subclasshook__',\n",
       " '__weakref__',\n",
       " '_one',\n",
       " '_two',\n",
       " '_x',\n",
       " 'x',\n",
       " 'y']"
      ]
     },
     "execution_count": 11,
     "metadata": {},
     "output_type": "execute_result"
    }
   ],
   "source": [
    "c._one\n",
    "dir(c)"
   ]
  },
  {
   "cell_type": "code",
   "execution_count": null,
   "metadata": {},
   "outputs": [],
   "source": []
  },
  {
   "cell_type": "code",
   "execution_count": 12,
   "metadata": {},
   "outputs": [
    {
     "data": {
      "text/plain": [
       "{'_x': None, 'y': 0, 'self': <__main__.C at 0x1c04d443408>, 'one': 1, 'two': 2}"
      ]
     },
     "execution_count": 12,
     "metadata": {},
     "output_type": "execute_result"
    }
   ],
   "source": [
    "#https://stackoverflow.com/questions/1419470/python-init-setattr-on-arguments\n",
    "class C:\n",
    "    def __init__(self, one, two):\n",
    "        self._x = None\n",
    "        self.y = 0\n",
    "        self.__dict__.update(locals())\n",
    "\n",
    "    @property\n",
    "    def x(self):\n",
    "        \"\"\"I'm the 'x' property.\"\"\"\n",
    "        print(\"getter of x called\")\n",
    "        return self._x\n",
    "\n",
    "    @x.setter\n",
    "    def x(self, value):\n",
    "        print(\"setter of x called\")\n",
    "        self._x = value\n",
    "\n",
    "    @x.deleter\n",
    "    def x(self):\n",
    "        print(\"deleter of x called\")\n",
    "        del self._x\n",
    "\n",
    "\n",
    "c = C(1, 2)\n",
    "c.__dict__"
   ]
  },
  {
   "cell_type": "code",
   "execution_count": 13,
   "metadata": {},
   "outputs": [
    {
     "data": {
      "text/plain": [
       "1"
      ]
     },
     "execution_count": 13,
     "metadata": {},
     "output_type": "execute_result"
    }
   ],
   "source": [
    "c.one"
   ]
  },
  {
   "cell_type": "code",
   "execution_count": 14,
   "metadata": {},
   "outputs": [],
   "source": [
    "### coursrea"
   ]
  },
  {
   "cell_type": "code",
   "execution_count": 35,
   "metadata": {},
   "outputs": [
    {
     "name": "stdout",
     "output_type": "stream",
     "text": [
      "1\n",
      "1\n"
     ]
    }
   ],
   "source": [
    "class Point:\n",
    "    # create instance in class?\n",
    "    # method is function in class\n",
    "    def get_x(self):\n",
    "        return self.x\n",
    "\n",
    "\n",
    "p = Point()  # create instance of point class\n",
    "p.x = 1 # create instance variable\n",
    "p.get_x()\n",
    "print(p.x)\n",
    "print(p.get_x())"
   ]
  },
  {
   "cell_type": "code",
   "execution_count": null,
   "metadata": {},
   "outputs": [],
   "source": []
  },
  {
   "cell_type": "code",
   "execution_count": 65,
   "metadata": {},
   "outputs": [
    {
     "name": "stdout",
     "output_type": "stream",
     "text": [
      "5\n",
      "5\n",
      "number: 5\n",
      "number: 2.5\n",
      "5\n"
     ]
    }
   ],
   "source": [
    "class Test:\n",
    "    class_variable = 5\n",
    "    def __init__(self, number):\n",
    "        print(self.class_variable)\n",
    "        self.number = number\n",
    "\n",
    "    def returnTest(self):\n",
    "        return Test(self.number / 2)\n",
    "    \n",
    "    def __str__(self):\n",
    "        return f'number: {self.number}'\n",
    "\n",
    "t = Test(5)\n",
    "t2 = t.returnTest()\n",
    "print(t)\n",
    "print(t2)\n",
    "print(t.class_variable)"
   ]
  },
  {
   "cell_type": "code",
   "execution_count": 18,
   "metadata": {},
   "outputs": [
    {
     "data": {
      "text/plain": [
       "__main__.Test"
      ]
     },
     "execution_count": 18,
     "metadata": {},
     "output_type": "execute_result"
    }
   ],
   "source": []
  },
  {
   "cell_type": "code",
   "execution_count": 19,
   "metadata": {},
   "outputs": [
    {
     "data": {
      "text/plain": [
       "__main__.Test"
      ]
     },
     "execution_count": 19,
     "metadata": {},
     "output_type": "execute_result"
    }
   ],
   "source": [
    "class Test:\n",
    "    def __init__(self):\n",
    "        self.number = 5\n",
    "\n",
    "Test"
   ]
  },
  {
   "cell_type": "code",
   "execution_count": 47,
   "metadata": {},
   "outputs": [],
   "source": [
    "## loop over class\n",
    "\n",
    "city_names = [\"Berlin\", \"Munich\"]\n",
    "populations = [3000000, 1000000]\n",
    "\n",
    "city_tuples = zip(city_names, populations)\n"
   ]
  },
  {
   "cell_type": "code",
   "execution_count": 48,
   "metadata": {},
   "outputs": [],
   "source": [
    "class City:\n",
    "    def __init__(self, _name, _population):\n",
    "        self.name = _name\n",
    "        self.population = _population\n",
    "    \n",
    "    # prints out\n",
    "    def __str__(self):\n",
    "        return f'{self.name} ({self-population})'"
   ]
  },
  {
   "cell_type": "code",
   "execution_count": 49,
   "metadata": {},
   "outputs": [],
   "source": [
    "cities = [City(name, pop) for name, pop in city_tuples]"
   ]
  },
  {
   "cell_type": "code",
   "execution_count": 55,
   "metadata": {},
   "outputs": [
    {
     "data": {
      "text/plain": [
       "3000000"
      ]
     },
     "execution_count": 55,
     "metadata": {},
     "output_type": "execute_result"
    }
   ],
   "source": [
    "cities[0].population"
   ]
  },
  {
   "cell_type": "code",
   "execution_count": 66,
   "metadata": {},
   "outputs": [],
   "source": [
    "# Inheritace"
   ]
  },
  {
   "cell_type": "code",
   "execution_count": 69,
   "metadata": {},
   "outputs": [],
   "source": [
    "CURRENT_YEAR = 2020\n",
    "class Person:\n",
    "    GLOBAL_VARIABLE_IN_CLASS = None\n",
    "    def __init__(self, name, year_born):\n",
    "        self.name = name\n",
    "        self.year_born = year_born\n",
    "        \n",
    "    def get_age(self):\n",
    "        return CURRENT_YEAR - self.year_born\n",
    "    \n",
    "    def __str__(self):\n",
    "        return f'{self.name} ({self.get_age()})'\n",
    "    \n",
    "    "
   ]
  },
  {
   "cell_type": "code",
   "execution_count": 73,
   "metadata": {},
   "outputs": [
    {
     "name": "stdout",
     "output_type": "stream",
     "text": [
      "24\n"
     ]
    }
   ],
   "source": [
    "class Student(Person):\n",
    "    def __init__(self, name, year_born):\n",
    "        Person.__init__(self, name, year_born)\n",
    "        self.knowledge = 0\n",
    "    def study(self):\n",
    "        self.knowledge += 1\n",
    "        \n",
    "student = Student('Alex', 1996)\n",
    "student.study()\n",
    "print(student.get_age())"
   ]
  },
  {
   "cell_type": "code",
   "execution_count": null,
   "metadata": {},
   "outputs": [],
   "source": []
  },
  {
   "cell_type": "code",
   "execution_count": 74,
   "metadata": {},
   "outputs": [],
   "source": [
    "# factory"
   ]
  },
  {
   "cell_type": "code",
   "execution_count": 85,
   "metadata": {},
   "outputs": [
    {
     "name": "stdout",
     "output_type": "stream",
     "text": [
      "The Odyssey by Homer\n",
      "2\n",
      "1\n",
      "1\n"
     ]
    }
   ],
   "source": [
    "class Book:\n",
    "    def __init__(self, title, author):\n",
    "        self.title = title\n",
    "        self.author = author\n",
    "        \n",
    "    def __str__(self):\n",
    "        return f'{self.title} by {self.author}'\n",
    "\n",
    "class PaperBook(Book):\n",
    "    def __init__(self, title, author, num_pages):\n",
    "        Book.__init__(self, title, author)\n",
    "        self.num_pages = num_pages\n",
    "        \n",
    "class ElectronicBook(Book):\n",
    "    def __init__(self, title, author, size):\n",
    "        Book.__init__(self, title, author)\n",
    "        self.size = size\n",
    "\n",
    "class Library:\n",
    "    def __init__(self):\n",
    "        self.books = []\n",
    "        \n",
    "    def add_book(self, book):\n",
    "        self.books.append(book)\n",
    "        \n",
    "    def get_num_books(self):\n",
    "        return len(self.books)\n",
    "    \n",
    "    def __str__(self):\n",
    "        return f'{self.get_num_books()}'\n",
    "    \n",
    "    \n",
    "    \n",
    "    \n",
    "book = PaperBook('The Odyssey', 'Homer', 2)\n",
    "print(book)\n",
    "print(book.num_pages)\n",
    "\n",
    "library = Library()\n",
    "library.add_book(book)\n",
    "print(library)\n",
    "print(library.get_num_books())"
   ]
  },
  {
   "cell_type": "code",
   "execution_count": 148,
   "metadata": {},
   "outputs": [
    {
     "name": "stdout",
     "output_type": "stream",
     "text": [
      "Alex\n",
      "None\n",
      "Class method\n",
      "None\n",
      "__eq__() is called\n"
     ]
    },
    {
     "data": {
      "text/plain": [
       "True"
      ]
     },
     "execution_count": 148,
     "metadata": {},
     "output_type": "execute_result"
    }
   ],
   "source": [
    "# datacamp\n",
    "# example class\n",
    "\n",
    "class Customer:\n",
    "    CLASS_VARIABLE = None\n",
    "    def __init__(self, name, balance, country):\n",
    "        self.name = name\n",
    "        self.balance = balance\n",
    "        self._country = country\n",
    "        \n",
    "    @classmethod\n",
    "    def class_method(cls):\n",
    "        # cant be accessed by instances\n",
    "        # use for alternative instanciation, eg. from file instance\n",
    "        print(\"Class method\")\n",
    "        \n",
    "        \n",
    "    @property\n",
    "    def country(self):\n",
    "        print(\"Property called\")\n",
    "        return self._country\n",
    "    \n",
    "    @country.setter\n",
    "    def country(self, value):\n",
    "        print(\"Setter called\")\n",
    "        if not isinstance(value, str):\n",
    "            raise ValueError(f\"{value} is not of type 'str'\")\n",
    "        self._country = value\n",
    "        \n",
    "    def __eq__(self, other):\n",
    "        # (self, other) is convention\n",
    "        # eq, ne, ge, le, gt, lt\n",
    "        print(\"__eq__() is called\")\n",
    "        return (self.name == other.name) and (self.balance == other.balance)\n",
    "    \n",
    "\n",
    "        \n",
    "cust = Customer(\"Alex\", 100, \"GER\")\n",
    "print(cust.name)\n",
    "print(cust.CLASS_VARIABLE)\n",
    "print(Customer.class_method())\n",
    "cust2 = Customer(\"Alex\", 100, \"GER\")\n",
    "cust == cust2"
   ]
  },
  {
   "cell_type": "code",
   "execution_count": 150,
   "metadata": {},
   "outputs": [
    {
     "name": "stdout",
     "output_type": "stream",
     "text": [
      "Setter called\n",
      "Property called\n"
     ]
    },
    {
     "data": {
      "text/plain": [
       "'GER'"
      ]
     },
     "execution_count": 150,
     "metadata": {},
     "output_type": "execute_result"
    }
   ],
   "source": [
    "cust.country = \"GER\"\n",
    "cust.country"
   ]
  },
  {
   "cell_type": "code",
   "execution_count": null,
   "metadata": {},
   "outputs": [],
   "source": []
  },
  {
   "cell_type": "code",
   "execution_count": null,
   "metadata": {},
   "outputs": [],
   "source": []
  },
  {
   "cell_type": "code",
   "execution_count": null,
   "metadata": {},
   "outputs": [],
   "source": []
  },
  {
   "cell_type": "code",
   "execution_count": null,
   "metadata": {},
   "outputs": [],
   "source": []
  },
  {
   "cell_type": "code",
   "execution_count": null,
   "metadata": {},
   "outputs": [],
   "source": []
  },
  {
   "cell_type": "code",
   "execution_count": null,
   "metadata": {},
   "outputs": [],
   "source": []
  }
 ],
 "metadata": {
  "kernelspec": {
   "display_name": "Python 3",
   "language": "python",
   "name": "python3"
  },
  "language_info": {
   "codemirror_mode": {
    "name": "ipython",
    "version": 3
   },
   "file_extension": ".py",
   "mimetype": "text/x-python",
   "name": "python",
   "nbconvert_exporter": "python",
   "pygments_lexer": "ipython3",
   "version": "3.7.4"
  }
 },
 "nbformat": 4,
 "nbformat_minor": 2
}
